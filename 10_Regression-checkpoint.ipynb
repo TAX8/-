{
 "cells": [
  {
   "cell_type": "markdown",
   "metadata": {},
   "source": [
    "# Регрессия 101"
   ]
  },
  {
   "cell_type": "markdown",
   "metadata": {},
   "source": [
    "> 🚀 В этой практике нам понадобятся: `numpy==1.21.2, pandas==1.3.3, matplotlib==3.4.3, scikit-learn==0.24.2`\n",
    "\n",
    "> 🚀 Установить вы их можете с помощью команды: `!pip install numpy==1.21.2, pandas==1.3.3, matplotlib==3.4.3, scikit-learn==0.24.2`"
   ]
  },
  {
   "cell_type": "markdown",
   "metadata": {},
   "source": [
    "# Содержание <a name=\"content\"></a>\n",
    "\n",
    "* [Вступление](#Vstuplenie)\n",
    "* [Поговорим про шоппинг](#Pogovorim_pro_shopping)\n",
    "* [Оценка модели](#Otsenka_modeli)\n",
    "* [Пора применять современные инструменты](#Pora_primenjat__sovremennye_instrumenty)\n",
    "* [Вопросы для закрепления](#Voprosy_dlja_zakreplenija)\n",
    "* [Полезные ссылки](#Poleznye_ssylki)\n"
   ]
  },
  {
   "cell_type": "code",
   "execution_count": 1,
   "metadata": {
    "_cell_id": "5uryx45JQro25G3U"
   },
   "outputs": [],
   "source": [
    "# Настройки для визуализации\n",
    "# Если используется темная тема - лучше текст сделать белым\n",
    "import matplotlib\n",
    "import numpy as np\n",
    "import matplotlib.pyplot as plt\n",
    "import pandas as pd\n",
    "import random\n",
    "TEXT_COLOR = 'black'\n",
    "\n",
    "matplotlib.rcParams['figure.figsize'] = (15, 10)\n",
    "matplotlib.rcParams['text.color'] = TEXT_COLOR\n",
    "matplotlib.rcParams['font.size'] = 14\n",
    "matplotlib.rcParams['lines.markersize'] = 15\n",
    "matplotlib.rcParams['axes.labelcolor'] = TEXT_COLOR\n",
    "matplotlib.rcParams['xtick.color'] = TEXT_COLOR\n",
    "matplotlib.rcParams['ytick.color'] = TEXT_COLOR\n",
    "\n",
    "# Зафиксируем состояние случайных чисел\n",
    "RANDOM_SEED = 42\n",
    "np.random.seed(RANDOM_SEED)\n",
    "random.seed(RANDOM_SEED)"
   ]
  },
  {
   "cell_type": "markdown",
   "metadata": {},
   "source": [
    "# Вступление <a name=\"intro\"></a>"
   ]
  },
  {
   "cell_type": "markdown",
   "metadata": {},
   "source": [
    "Привет! Это первая практика по теме машинного обучения в нашем курсе и начнем мы её с небольшого введения. Все дальнейшие ноутбуки будут построены по принципу \"читаем, разбираемся и по ходу выполняем задачки\". В ноутбуке вы встретите следующие блоки:\n",
    "\n",
    "```python\n",
    "  # TODO - здесь может идти длиииииинное описание ...\n",
    "```\n",
    "Это блок, в котором предлагается выполнить какую-нибудь задачку, чтобы пройти дальше. Не забывайте, что непосильных задач вам никто не даст и мы в вас верим! Поэтому, не беритесь за списывание у соседей, а попробуйте сделать самостоятельно - у вас получится!\n",
    "\n",
    "Сразу за ним обычно следует блок\n",
    "```python\n",
    "  # TEST\n",
    "```\n",
    "\n",
    "Блок с тестированием, в котором проверяется ваше решение. Если решение верное, то вы увидите \"Well done!\" в консоли. Иначе, будут ошибки с указанием на то, какой тест не удалось пройти.\n",
    "\n",
    "Не старайтесь убрать или закомментировать тесты - это проверка сделана для того, чтобы показать, что ваше решение делает то, что необходимо по заданию. Иначе, может получиться так, что вы неправильно поняли и дальше все идет неправильно - мы ведь не хотим такого развития событий?\n",
    "\n",
    "Другие интересные блоки:\n",
    "\n",
    "> 🤓 Вот здесь мы обычно пишем умный текст, который содержит умный слова и важные термины. Или просто скучный правильный текст =)\n",
    "\n",
    "> ⚠️ На это стоит обратить внимание и запомнить!\n",
    "\n",
    "> 🔥 Хотите стать супер разработчиком - в таких блоках будут даваться маленькие советы по разработке. Чаще всего они будут отсылкой к [PEP - Python Enhancement Proposal](https://www.python.org/dev/peps/)"
   ]
  },
  {
   "cell_type": "markdown",
   "metadata": {},
   "source": [
    "Вы уже закончили практику с базовыми фреймворками - замечательно! Поверьте, это нужно было, чтобы не перегружать вас информацией по ходу разбора части по машинному обучению. Теперь, когда вы подкованы в работе с матрицами, математических операциях в питоне и табличном представлении данных, можно переходит к самой занимательной части - машинное обучение и зачем оно нужно.\n",
    "\n",
    "На самом деле, раньше мы спокойно жили без машинного обучения - ученые разрабатывали умные методы, которые решали разные задачки. Это могли быть задачи предсказания погоды, стоимостей акций на фондовых рынках, распознавание людей по видеокамере и другие. Но вот наступила эра, когда компьютеры стали настолько мощными, что мы можем для некоторых задач не разрабатывать алгоритмы, а взять **огромные объемы данных**, которые в нашем мире поступают отовсюду (за подробностями обращаемся к термину Big Data), и передать компьютеру с указанием того, что мы от него хотим. Тогда компьютер переваривает эти данные, просматривает их, выявляется **зависимости** в данных и после этого запоминает эти зависимости, чтобы в будущем решать ту же задачку, для которой он учился, но уже с **новыми данными**. В этой схеме важно выделить основную составляющую - **данные**. Без данных машинное обучение не работает, совсем... \n",
    "\n",
    "<p align=\"center\"><img src=\"https://www.meme-arsenal.com/memes/8be906822da6b79a9923619743a073e3.jpg\" width=600/></p>\n",
    "\n",
    "Поэтому, в этом курсе вы можете обратить внимание, что любые действия, которые будут делаться - они будут делаться с данными!\n"
   ]
  },
  {
   "cell_type": "markdown",
   "metadata": {},
   "source": [
    "# Поговорим про шоппинг <a name=\"shop\"></a>"
   ]
  },
  {
   "cell_type": "markdown",
   "metadata": {},
   "source": [
    "Сегодня мы начнем с одной из таких задач. И чтобы не вдаваться в хитрые научные подробности и сразу не говорить о **полиномиальной регрессионной модели с высоким коэффициентом детерминированности** (звучит как название научной работы), мы пойдем в магазин!\n",
    "\n",
    "<p align=\"center\"><img src=\"https://sayingimages.com/wp-content/uploads/did-someone-shopping-memes.jpg\" width=600/></p>\n",
    "\n"
   ]
  },
  {
   "cell_type": "markdown",
   "metadata": {},
   "source": [
    "Представьте себе, что мы приходим в магазин и видим 5 разных бутылочек йогурта. Посмотри, вот есть 600 мл за 58 рублей, ещё за 85 рублей видна 2х литровая банка. А вот ещё есть литр и 1.3 литра за 67 и 69! Ну и совсем мелкая за 50 - 330 мл.\n",
    "\n",
    "Вроде всего пять разных объемов, пять разных цен, но обратите внимание - это уже можно рассматривать как некоторые данные! Давайте представим их в виде таблицы:"
   ]
  },
  {
   "cell_type": "code",
   "execution_count": 2,
   "metadata": {
    "_cell_id": "k5KBaaEGIUe8lcaN"
   },
   "outputs": [
    {
     "data": {
      "text/html": [
       "<div>\n",
       "<style scoped>\n",
       "    .dataframe tbody tr th:only-of-type {\n",
       "        vertical-align: middle;\n",
       "    }\n",
       "\n",
       "    .dataframe tbody tr th {\n",
       "        vertical-align: top;\n",
       "    }\n",
       "\n",
       "    .dataframe thead th {\n",
       "        text-align: right;\n",
       "    }\n",
       "</style>\n",
       "<table border=\"1\" class=\"dataframe\">\n",
       "  <thead>\n",
       "    <tr style=\"text-align: right;\">\n",
       "      <th></th>\n",
       "      <th>volume</th>\n",
       "      <th>price_rub</th>\n",
       "    </tr>\n",
       "  </thead>\n",
       "  <tbody>\n",
       "    <tr>\n",
       "      <th>0</th>\n",
       "      <td>600</td>\n",
       "      <td>58</td>\n",
       "    </tr>\n",
       "    <tr>\n",
       "      <th>1</th>\n",
       "      <td>2000</td>\n",
       "      <td>85</td>\n",
       "    </tr>\n",
       "    <tr>\n",
       "      <th>2</th>\n",
       "      <td>1000</td>\n",
       "      <td>67</td>\n",
       "    </tr>\n",
       "    <tr>\n",
       "      <th>3</th>\n",
       "      <td>1300</td>\n",
       "      <td>69</td>\n",
       "    </tr>\n",
       "    <tr>\n",
       "      <th>4</th>\n",
       "      <td>330</td>\n",
       "      <td>50</td>\n",
       "    </tr>\n",
       "  </tbody>\n",
       "</table>\n",
       "</div>"
      ],
      "text/plain": [
       "   volume  price_rub\n",
       "0     600         58\n",
       "1    2000         85\n",
       "2    1000         67\n",
       "3    1300         69\n",
       "4     330         50"
      ]
     },
     "execution_count": 2,
     "metadata": {},
     "output_type": "execute_result"
    }
   ],
   "source": [
    "df_yogurths = pd.DataFrame({\n",
    "    'volume': [600, 2000, 1000, 1300, 330],\n",
    "    'price_rub': [58, 85, 67, 69, 50]\n",
    "})\n",
    "\n",
    "df_yogurths"
   ]
  },
  {
   "cell_type": "markdown",
   "metadata": {},
   "source": [
    "Замечательно! Здесь мы видим табличные данные, в которых каждому объёму соответствует своя цена.\n",
    "\n",
    "> 🤓 Если быть совсем точным, то такие данные называются структурированными, так как они имеют фиксированную структуру.\n",
    "\n",
    "Такой вид представления удобен, чтобы посмотреть данные глазами, но не забывайте про другой, более удобный для общей оценки формат - графики, визуализация!\n",
    "\n",
    "Для этого случая отлично подойдет scatter график:"
   ]
  },
  {
   "cell_type": "code",
   "execution_count": 3,
   "metadata": {
    "_cell_id": "MUo6rVVbFohz1fZF"
   },
   "outputs": [
    {
     "data": {
      "image/png": "[encoded data removed]",
      "text/plain": [
       "<Figure size 1080x720 with 1 Axes>"
      ]
     },
     "metadata": {
      "needs_background": "light"
     },
     "output_type": "display_data"
    }
   ],
   "source": [
    "plt.scatter(x='volume', y='price_rub', data=df_yogurths, marker='x')\n",
    "plt.xlabel('Объем, мл')\n",
    "plt.ylabel('Цена, руб')\n",
    "plt.grid()"
   ]
  },
  {
   "cell_type": "markdown",
   "metadata": {},
   "source": [
    "Отлично! Видите, такой способ посмотреть на данные очень нагляден и мы сразу видим, что с ростом объёма йогурта растёт и цена!\n",
    "\n",
    "> ⚠️ Данные, как правило, имеют точечный характер. Например, в наших данных есть информация о конкретных объёмах и конкретных ценах. На графике видно, что они являются точками.\n",
    "\n",
    "Вот мы и пришли к первому выводу сегодняшней практики - данные содержат **зависимости** внутри себя. \n",
    "\n",
    "Зависимости - это то, что является самым интересным в данных, и именно они позволяют нам делать выводы об окружающем мире!\n",
    "\n",
    "В этих данных мы видим, что цена и объём зависят между собой, потому что с ростом цены растёт объём и наоборот.\n",
    "\n",
    "> 🤓 Если вы уже знаете, что такое **корреляция**, то вы знаете, что наличие зависимостей можно оценить именно с её помощью. Если нет, то не переживайте - узнаете чуть позже.\n",
    "\n",
    "Определить наличие зависимостей в данных - это уже огромный результат, но вот как их использовать? Давайте подумаем... хм..\n",
    "\n",
    "> ✨Вот здесь вы можете обсудить с предподавателем идеи, если занятие идет очно =)\n",
    "\n",
    "<p align=\"center\"><img src=\"https://raw.githubusercontent.com/kail4ek/ml_edu/master/assets/think_about_it_image.png\" width=600/></p>"
   ]
  },
  {
   "cell_type": "markdown",
   "metadata": {},
   "source": [
    "Итак, мы можем сказать, что у нас есть зависимость цены от объёма. С увеличением объёма растёт и цена. Что если мы попробуем выяснить, насколько сильно растет цена на единицу объёма - то есть постараемся описать рост прямой линией? Так мы узнаем, сколько стоит 1500 мл и даже 3000 мл йогурта!\n",
    "\n",
    "> 🤓 Если вы запамятовали, то прямая линия описывается уравнением $y = k*x+b$"
   ]
  },
  {
   "cell_type": "code",
   "execution_count": 4,
   "metadata": {
    "_cell_id": "NkPCMGFMQswSTsQK"
   },
   "outputs": [
    {
     "data": {
      "image/png": "[encoded data removed]",
      "text/plain": [
       "<Figure size 1080x720 with 1 Axes>"
      ]
     },
     "metadata": {
      "needs_background": "light"
     },
     "output_type": "display_data"
    }
   ],
   "source": [
    "LINE_K = 0.07\n",
    "LINE_B = 0\n",
    "\n",
    "x_points = np.linspace(300, 3000, 1000)\n",
    "y_points = x_points * LINE_K + LINE_B\n",
    "\n",
    "plt.scatter(x='volume', y='price_rub', data=df_yogurths, marker='x')\n",
    "plt.scatter(x_points, y_points, c='g', s=10)\n",
    "plt.xlabel('Объем, мл')\n",
    "plt.ylabel('Цена, руб')\n",
    "plt.grid()"
   ]
  },
  {
   "cell_type": "markdown",
   "metadata": {},
   "source": [
    "> 🔥 Почему в коде `LINE_K` и `LINE_B` названы большими буквами? В практике разработки на Python есть правило, что константы именуются прописными буквами. Это же правило есть и в других языках. Подробнее [PEP8](https://www.python.org/dev/peps/pep-0008/#constants)\n",
    "\n",
    "Смотрите, мы нарисовали линию, но она проходит далеко от точек. Давайте попробуем подобрать такие коэффициенты, чтобы она шла как можно точнее через точки:"
   ]
  },
  {
   "cell_type": "code",
   "execution_count": 21,
   "metadata": {
    "_cell_id": "nH5BRtO21OkPDAzp"
   },
   "outputs": [
    {
     "data": {
      "image/png": "[encoded data removed]",
      "text/plain": [
       "<Figure size 1080x720 with 1 Axes>"
      ]
     },
     "metadata": {
      "needs_background": "light"
     },
     "output_type": "display_data"
    }
   ],
   "source": [
    "# TODO - подберите коэффициенты так, чтобы линия лучше всего пересекалась с точками\n",
    "# NOTE - если вы сможете провести прямую линию ровно через все точки в этих данных - вау! Но вообще, это невозможно =) \n",
    "LINE_K = 0.02\n",
    "LINE_B = 45\n",
    "\n",
    "x_points = np.linspace(300, 3000, 1000)\n",
    "y_points = x_points * LINE_K + LINE_B\n",
    "\n",
    "plt.scatter(x='volume', y='price_rub', data=df_yogurths, marker='x')\n",
    "plt.scatter(x_points, y_points, c='g', s=10)\n",
    "plt.xlabel('Объем, мл')\n",
    "plt.ylabel('Цена, руб')\n",
    "plt.grid()"
   ]
  },
  {
   "cell_type": "code",
   "execution_count": 22,
   "metadata": {
    "_cell_id": "nTRIspVmuc6J7oRj"
   },
   "outputs": [
    {
     "name": "stdout",
     "output_type": "stream",
     "text": [
      "Well done!\n"
     ]
    }
   ],
   "source": [
    "# TEST - проверимс ваше решение\n",
    "_test_x_values = df_yogurths['volume']\n",
    "_test_y_values = df_yogurths['price_rub']\n",
    "\n",
    "_test_y_pred = _test_x_values * LINE_K + LINE_B\n",
    "_test_err = np.abs(_test_y_pred-_test_y_values).mean()\n",
    "\n",
    "assert _test_err < 4\n",
    "print(\"Well done!\")"
   ]
  },
  {
   "cell_type": "markdown",
   "metadata": {},
   "source": [
    "Проверка прошла и вы видите надпись `Well done!`? Отлично!\n",
    "\n",
    "Это означает, что вы правильно настроили линию, чтобы она проходила через точки! Молодцы!\n",
    "\n",
    "А зачем мы это делали? Хм-хм. Ну давайте посмотрим, сейчас наша линия проходит так же, как изменяются данные о цене при росте объема. То есть, мы описали наши данные через зависимость $y=kx+b$. Короче, мы выразили наши данные в виде формулы! То есть теперь, вместо того, чтобы знать, сколько стоят конкретные объёмы йогурта, мы можем **предсказать**, сколько будет стоить, например, 1.5 литра!\n",
    "\n",
    "Что за магия? Какие **предсказания**? Почему??\n",
    "\n",
    "Все просто, мы предсказываем, потому что в наших данных нет информации о 1500 мл. Это **новые данные** для нас, поэтому это называется предсказанием!\n",
    "\n",
    "> 🤓 Описание данных зависимостью вида $y=f(x)$ - это описание **дискретных** данных **аналитической** зависимостью.\n",
    "\n",
    "Но перед этим, давайте завернем нашу прекрасную формулу в функцию:"
   ]
  },
  {
   "cell_type": "code",
   "execution_count": 23,
   "metadata": {
    "_cell_id": "1bKKZ7t3HsIxlbWO"
   },
   "outputs": [],
   "source": [
    "LINE_K = 0.02\n",
    "LINE_B = 45\n",
    "def predict_price(x):\n",
    "    return x* LINE_K + LINE_B\n",
    "\n",
    "# TODO - напишите функцию predict_price(), которая на вход принимает массив объемов и возвращает массив цен для него\n",
    "# NOTE - коэффициенты запишите константами внутри функции"
   ]
  },
  {
   "cell_type": "code",
   "execution_count": 24,
   "metadata": {
    "_cell_id": "H6mDhMbLL1FHy4SA"
   },
   "outputs": [
    {
     "name": "stdout",
     "output_type": "stream",
     "text": [
      "Well done!\n"
     ]
    }
   ],
   "source": [
    "# TEST - проверимс ваше решение\n",
    "_test_x_values = df_yogurths['volume']\n",
    "_test_y_values = df_yogurths['price_rub']\n",
    "\n",
    "_test_y_pred = predict_price(_test_x_values)\n",
    "_test_err = np.abs(_test_y_pred-_test_y_values).mean()\n",
    "\n",
    "assert _test_err < 4\n",
    "print(\"Well done!\")"
   ]
  },
  {
   "cell_type": "markdown",
   "metadata": {},
   "source": [
    "> 🔥 Зачем нам писать функцию? Это нужно, чтобы в дальнейшем применять этот код в конечной системе. Такой шаг называется **интеграция**. В ходе разработки ваш код может быть путанным и плохо организованным, но завершающий этап - организация кода в хороший, комментированный и легкочитаемый вид, чтобы была возможность это поддержки. Не забывайте ухаживать за своим кодом!\n",
    "\n",
    "\n",
    "\n",
    "Молодцы, а теперь давайте посмотрим, сколько же будут стоить йогурты объёмом 1.5 и 3 литров?"
   ]
  },
  {
   "cell_type": "code",
   "execution_count": 25,
   "metadata": {
    "_cell_id": "zpzUruZ8dhwwuD1q"
   },
   "outputs": [
    {
     "data": {
      "image/png": "[encoded data removed]",
      "text/plain": [
       "<Figure size 1080x720 with 1 Axes>"
      ]
     },
     "metadata": {
      "needs_background": "light"
     },
     "output_type": "display_data"
    }
   ],
   "source": [
    "new_volumes = np.array([1500, 3000])\n",
    "predicted_prices = predict_price(new_volumes)\n",
    "\n",
    "plt.scatter(x='volume', y='price_rub', data=df_yogurths, marker='x')\n",
    "plt.scatter(new_volumes, predicted_prices, c='r', marker='x')\n",
    "plt.xlabel('Объем, мл')\n",
    "plt.ylabel('Цена, руб')\n",
    "plt.grid()"
   ]
  },
  {
   "cell_type": "markdown",
   "metadata": {},
   "source": [
    "Видите, похоже на правду! Мы только что предсказали цены на новые объемы, при этом опираясь только на те данные, что мы имели! Круто, поздравляю!!\n",
    "\n",
    "Вы большие молодцы, потому что вы только что разработали модель предсказания цены по объёму продукта!\n",
    "\n",
    "> 🤓 Модель машинного обучения - алгоритм, который может быть обучен (настроен) на данных и далее использован для предсказания на новых данных\n",
    "\n",
    "Но не спешите бежать её продавать - давайте сначала разберёмся в терминах, которые нам пригодятся в будущем =)"
   ]
  },
  {
   "cell_type": "markdown",
   "metadata": {},
   "source": [
    "Несмотря на то, что пока что наша модель сама не училась, а мы ее ручками настроили, здесь есть пара важных моментов.\n",
    "\n",
    "Для начала, про зависимости, когда мы попытались выразить наши точки через прямую линию, мы по сути **аппроксимировали** данные зависимостью вида $y=f(x)$. То есть, описали точки через прямую линию.\n",
    "\n",
    "> 🤓 Аппроксимация - описание зависимости в данных аналитической формулой, это может быть прямая линия $y = kx+b$, полином $y=ax^2+bx+c$, логарифм $y=log(x)$ или что угодно другое.\n",
    "\n",
    "В зависимости у нас участвовали две переменные цена и объём, при этом цена зависела от объёма. Это означает, что цена является тем, что мы хотим предсказывать - наша цель предсказания (или, проще, целевая переменная), а объём - переменная, по которой мы хотим предсказывать. В народе (ну или коммьюнити) переменные, по которым делаются предсказания называются признаками (или через ангицизм - фичи).\n",
    "\n",
    "> 🤓 Признаки (фичи - features) - **независимые** переменные, которые используются для предсказания зависимой переменной. Ещё есть название *предикторы*.\n",
    "\n",
    "> 🤓 Целевая переменная - **зависимая** переменная в данных, которую мы хотим предсказать по независимым переменным.\n",
    "\n",
    "Подводя итоги того, что мы тут натворили, изначально у нас были данные о йогуртах, которые мы собрали в магазине. Данные имели пять записей (примеров) и две переменные: объём и цена. Мы поставили задачу так, что цену выбрали в качестве зависимой переменной, а объём в качестве независимой. Далее построили аналитическую зависимость $y = kx+b$, в которой $y$ - цена, $x$ - объём. Ну, и наконец, смогли предсказать цену для новых объёмов!\n",
    "\n",
    "А как пракильно назвать $k$ и $b$, они же тоже участвуют в уравнении? Хороший вопрос! \n",
    "\n",
    "Это **параметры** модели - их мы настраивали сами. То есть, учился не сам алгоритм, а мы, чтобы настроить его так, как мы хотим. Но не переживайте, скоро дойдёт до того, что не мы будем подбирать коэффициенты, а модель сама будет учиться по данным!\n",
    "\n",
    "> 🤓 Параметры модели машинного обучения - это параметры алгоритма, которые настраиваются в ходе обучения.\n",
    "\n",
    "Отлично, немного отдохнём и дальше в путь, мы же большие молодцы!\n",
    "\n",
    "<p align=\"center\"><img src=\"https://raw.githubusercontent.com/kail4ek/ml_edu/master/assets/have_a_rest_sure.jpg\" width=600/></p>"
   ]
  },
  {
   "cell_type": "markdown",
   "metadata": {},
   "source": [
    "# Оценка модели <a name=\"eval\"></a>"
   ]
  },
  {
   "cell_type": "markdown",
   "metadata": {},
   "source": [
    "Визуально подбирать коэффициенты - это круто, но тут есть две проблемы:\n",
    "\n",
    "1. Вы представляете, чтобы мы сидели и каждый раз подбирали коэффициенты для каждой модели? В практике за день бывает доводится поработать с десятком сложных моделей со множеством коэффициентов - это неблагодарный труд =(\n",
    "\n",
    "2. Чтобы подобрать коэффициенты, мы нарисовали зависимость цены от объёма, а что если в данных мы используем ещё больше фич, например, количество дней для хранения йогурта, тип упаковки, страна производства и ещё десяток других? Рисовать такое на графике разом уже затруднительно.\n",
    "\n",
    "Что же нам делать в таком случае? Получается, мы пока что не умеет заставлять модель учиться самостоятельно, но уже хочется на данных делать крутые модели для предсказания!\n",
    "\n",
    "Не беспокойтесь, умные люди придумали **метрики** оценки для разных случаев. С некоторыми их них мы сейчас и познакомимся!\n",
    "\n",
    "> 🤓 Метрика оценки - количественная характеристика оценки какого-либо явления. Например, есть метрики точности, нормальности, ошибки и т.д.\n",
    "\n",
    "> ⚠️Визуализация данных полезна для общего восприятия и анализа зависимостей, но это есть **качественная** оценка. Для сравнительного анализа лучше использовать **количественную** оценку - метрики."
   ]
  },
  {
   "cell_type": "markdown",
   "metadata": {},
   "source": [
    "Когда мы подбираем коэффициенты, наша линия может проходить через точки или нет - это качественная оценка ситуации. Как же нам сказать, насколько \"хорошо\" она проходит через точки? \n",
    "\n",
    "Мы можем посмотреть, насколько сильно расходится **истинное** значение в данных от **предсказанного** моделью. \n",
    "\n",
    "> 🤓 Истинное значение - значение целевой переменной в данных.\n",
    "\n",
    "> 🤓 Предсказанное значение - значение, которое предсказывает модель на конкретных значениях фич при определенных параметрах.\n",
    "\n",
    "То есть, у нас есть в данных пять примеров объёмов - мы можем посмотреть, какие цены имеют эти объёмы в реальности (истинные значения) и какие предсказывает модель при определённых коэффициентах (предсказанные). \n",
    "\n",
    "Давайте напишем функцию предсказания, но уже на вход будут поступать коэффициенты, чтобы было проще управлять кодом:"
   ]
  },
  {
   "cell_type": "code",
   "execution_count": 28,
   "metadata": {
    "_cell_id": "KH8djVAEkvGFVQpF"
   },
   "outputs": [],
   "source": [
    "def predict_price_linear(x,k,b):\n",
    "    y=k*x+b\n",
    "    return y \n",
    "# TODO - напишите функцию предсказания predict_price_linear(), которая на вход принимает вектор признаков, коэффициент k и коэффициент b"
   ]
  },
  {
   "cell_type": "code",
   "execution_count": 29,
   "metadata": {
    "_cell_id": "9qxTqCyBMOggsAKB"
   },
   "outputs": [
    {
     "name": "stdout",
     "output_type": "stream",
     "text": [
      "Well done!\n"
     ]
    }
   ],
   "source": [
    "# TEST - проверимс ваше решение\n",
    "_test_y_pred = predict_price_linear(np.array([1, 2, 4]), 1, 2)\n",
    "np.testing.assert_array_almost_equal(_test_y_pred, [3, 4, 6])\n",
    "\n",
    "print(\"Well done!\")"
   ]
  },
  {
   "cell_type": "markdown",
   "metadata": {},
   "source": [
    "А теперь посмотрим, насколько ошибается модель на наших данных в предсказаниях по сравнению с истинными значениями:"
   ]
  },
  {
   "cell_type": "code",
   "execution_count": 30,
   "metadata": {
    "_cell_id": "7qvh5I5T3IaRGYGN"
   },
   "outputs": [
    {
     "data": {
      "text/plain": [
       "0     -2.0\n",
       "1   -115.0\n",
       "2    -33.0\n",
       "3    -61.0\n",
       "4     17.0\n",
       "dtype: float64"
      ]
     },
     "execution_count": 30,
     "metadata": {},
     "output_type": "execute_result"
    }
   ],
   "source": [
    "LINE_K = 0.1\n",
    "LINE_B = 0\n",
    "\n",
    "# Вектор истинных значений\n",
    "y_true = df_yogurths['price_rub']\n",
    "# Признаки\n",
    "x = df_yogurths['volume']\n",
    "\n",
    "# Вектор предсказаний\n",
    "y_pred = predict_price_linear(x, LINE_K, LINE_B)\n",
    "\n",
    "# Вектор ошибок\n",
    "error = y_true-y_pred\n",
    "\n",
    "error"
   ]
  },
  {
   "cell_type": "markdown",
   "metadata": {},
   "source": [
    "Вооу, вот это ошибки, во втором случае мы промахнулись на 115 рублей - многовато! \n",
    "\n",
    "Вот мы получили вектор того, насколько расходится истинное значение с предсказанным - уже что-то. Может попробовать просматривать каждую ошибку и смотреть, насколько каждая изменилась?\n",
    "\n",
    "> А теперь представим, что у нас 1_000_000 данных (миллион) - мы же запаримся анализировать ошибки =(\n",
    "\n",
    "Тогда нам нужно выразить это одним числом, чтобы затем каждое изменение параметров нам говорило, линия лучше описывает данные или нет. \n",
    "\n",
    "Что же делать..."
   ]
  },
  {
   "cell_type": "markdown",
   "metadata": {},
   "source": [
    "Начнем знакомство с первой метрики под названием Mean Absolute Error (Средняя абсолютная ошибка). Она очень простая, вот формула:\n",
    "\n",
    "$$ MAE = (\\frac{1}{n})\\sum_{i=1}^{n}\\left | y_{pred} - y_{true} \\right | $$\n",
    "\n",
    "Смотрите, всего-то, берём разницу каждого примера, берём от этого абсолютное значение, а потом суммируем всё и делим на количество. Последние два действия - по сути взятие среднего от вектора. Попробуйте!"
   ]
  },
  {
   "cell_type": "code",
   "execution_count": 38,
   "metadata": {
    "_cell_id": "PM2OGTIjY4IpFcfA"
   },
   "outputs": [],
   "source": [
    "def compute_MAE(y_pred,y_true):\n",
    "    mae=sum(abs(y_pred-y_true))/len(y_pred)\n",
    "    return mae\n",
    "# TODO - напишите функцию вычисления MAE под название compute_MAE(), которая принимает вектор истинных значений и вектор предсказанных"
   ]
  },
  {
   "cell_type": "code",
   "execution_count": 39,
   "metadata": {
    "_cell_id": "LM0oTZ82G61SNXnT"
   },
   "outputs": [
    {
     "name": "stdout",
     "output_type": "stream",
     "text": [
      "Well done!\n"
     ]
    }
   ],
   "source": [
    "# TEST - проверимс ваше решение\n",
    "_test_mae_1 = compute_MAE(np.array([1, 2, 4]), np.array([4, 2, 1]))\n",
    "np.testing.assert_equal(_test_mae_1, 2)\n",
    "_test_mae_2 = compute_MAE(np.array([10, 20, 3]), np.array([2, 1, 0]))\n",
    "np.testing.assert_equal(_test_mae_2, 10)\n",
    "\n",
    "print(\"Well done!\")"
   ]
  },
  {
   "cell_type": "markdown",
   "metadata": {},
   "source": [
    "У вас получилось, отлично!\n",
    "\n",
    "Давайте теперь посмотрим, какая сейчас у нас ошибка при наших коэффициентах!"
   ]
  },
  {
   "cell_type": "code",
   "execution_count": 40,
   "metadata": {
    "_cell_id": "JruGARD4YXvSZ15d"
   },
   "outputs": [
    {
     "name": "stdout",
     "output_type": "stream",
     "text": [
      "Yoghurt linear predict MAE: 45.6\n"
     ]
    }
   ],
   "source": [
    "data_mae = compute_MAE(y_true, y_pred)\n",
    "\n",
    "print(f'Yoghurt linear predict MAE: {data_mae}')"
   ]
  },
  {
   "cell_type": "markdown",
   "metadata": {},
   "source": [
    "Таким образом MAE показывает среднюю ошибку в предсказании на данных - 45.6 рублей. Много это или мало трудно сказать вот так, но это нам сейчас не нужно. Все потому, что мы будем использовать эту метрику для сравнения наших моделей при разных значениях параметров.\n",
    "\n",
    "> ⚠️ Метрика средней абсолютной ошибки показывает ошибку в тех же единицах, что и единицы самих данных.\n",
    "\n",
    "> ⚠️ Метрики точности всегда оцениваются на данных, у которых есть истинные значения (разметка). Без разметки оценку провести невозможно!\n",
    "\n",
    "Так, как же мы будем проводить настройку? Сами посудите, метрика показывает ошибку, а чем меньше ошибка, тем лучше! Давайте попробуем настроить нашу модель таким образом, чтобы получить наименьшую ошибку MAE! Пробуем!"
   ]
  },
  {
   "cell_type": "code",
   "execution_count": 53,
   "metadata": {
    "_cell_id": "zGEkeN96AsuhE7wj"
   },
   "outputs": [
    {
     "name": "stdout",
     "output_type": "stream",
     "text": [
      "Yoghurt linear predict MAE: 1.3200000000000003\n"
     ]
    }
   ],
   "source": [
    "# TODO - подберите коэффициенты так, чтобы ошибка была минимальна \n",
    "# NOTE - не забывайте, что вы уже настраивали визуально коэффициенты, попробуйте и их!\n",
    "# TODO* - попробуйте написать код автоматического поиска коэффициентов\n",
    "\n",
    "LINE_K = 0.02\n",
    "LINE_B = 45\n",
    "\n",
    "y_true = df_yogurths['price_rub']\n",
    "x = df_yogurths['volume']\n",
    "\n",
    "y_pred = predict_price_linear(x, LINE_K, LINE_B)\n",
    "\n",
    "data_mae = compute_MAE(y_true, y_pred)\n",
    "\n",
    "print(f'Yoghurt linear predict MAE: {data_mae}')"
   ]
  },
  {
   "cell_type": "code",
   "execution_count": 54,
   "metadata": {
    "_cell_id": "n9VtALRSm29GACNv"
   },
   "outputs": [
    {
     "name": "stdout",
     "output_type": "stream",
     "text": [
      "Well done!\n"
     ]
    }
   ],
   "source": [
    "# TEST - проверимс ваше решение\n",
    "_test_x_values = df_yogurths['volume']\n",
    "_test_y_values = df_yogurths['price_rub']\n",
    "\n",
    "_test_y_pred = predict_price_linear(_test_x_values, LINE_K, LINE_B)\n",
    "_test_err = compute_MAE(_test_y_values, _test_y_pred)\n",
    "\n",
    "assert _test_err < 1.5\n",
    "print(\"Well done!\")"
   ]
  },
  {
   "cell_type": "markdown",
   "metadata": {},
   "source": [
    "Отлично, мы без графиков смогли настроить модель так, чтобы ошибка предсказания на известных данных была минимальна! Но давайте сверимся, что наша прямая линия действительно проходит через точки:"
   ]
  },
  {
   "cell_type": "code",
   "execution_count": 57,
   "metadata": {
    "_cell_id": "Nn8ZsmFl2XyScDzp"
   },
   "outputs": [
    {
     "data": {
      "image/png": "[encoded data removed]",
      "text/plain": [
       "<Figure size 1080x720 with 1 Axes>"
      ]
     },
     "metadata": {
      "needs_background": "light"
     },
     "output_type": "display_data"
    }
   ],
   "source": [
    "LINE_K = 0.02\n",
    "LINE_B = 45\n",
    "\n",
    "x_points = np.linspace(300, 3000, 1000)\n",
    "y_points = x_points * LINE_K + LINE_B\n",
    "\n",
    "plt.scatter(x='volume', y='price_rub', data=df_yogurths, marker='x')\n",
    "plt.scatter(x_points, y_points, c='g', s=10)\n",
    "plt.xlabel('Объем, мл')\n",
    "plt.ylabel('Цена, руб')\n",
    "plt.grid()\n",
    "# TODO - напишите код отображения точек данных и линии предсказания"
   ]
  },
  {
   "cell_type": "markdown",
   "metadata": {},
   "source": [
    "Воу-воу, вот это мы молодцы! Без графиков смогли настроить модель, да ещё и она действительно повторяет закономерность в данных! Замечательно!\n",
    "\n",
    "Получается, с помощью численных оценок ошибки предсказаний по метрике MAE модели мы смогли настроить нашу модель так, чтобы она давала наименьшую ошибку предсказания!\n",
    "\n",
    "В целом, если говорить о машинном обучении, то примерно так модель и учится - перебирает параметры, смотря на метрику ошибки, ну и пытается свести её к минимуму. Только делает это чуть умнее - не простым перебором.\n",
    "\n",
    "> В данных практиках мы не будем рассматривать алгоритм обучения, но вы можете попробовать свои силы в реализации, чтобы лучше его понять. За этим обратитесь к преподавателю за дополнительным заданием.\n",
    "\n",
    "Итак, мы смогли создать свою модель, научились предсказывать на новых данных, да ещё и оценили ошибку настройки количественно - прям по-научному! Круто - большие молодцы!"
   ]
  },
  {
   "cell_type": "markdown",
   "metadata": {},
   "source": [
    "# Пора применять современные инструменты <a name=\"modern\"></a>"
   ]
  },
  {
   "cell_type": "markdown",
   "metadata": {},
   "source": [
    "Писать модель машинного обучения вручную - дело очень полезное, но крайне непродуктивное.\n",
    "\n",
    "> 🔥 В мире разработки существует огромное количество готовых решений. Вне зависимости от задачи первым дело проверяйте, существуют ли готовые решения и насколько они поддерживаемы. Писать код с нуля при наличии подходящих готовых решений считается *велосипедоделанием* и не приветствуется. Не забывайте про анализ готовых решений!\n",
    "\n",
    "Чтобы поддерживать актуальность, мы будем пользоваться билиотекой [scikit-learn](https://scikit-learn.org/), которая является де-факто одной из стандартных библиотек в задачах машинного обучения.\n",
    "\n",
    "Откроем вам маааленький секрет, задача, которую мы с вами решали - описание зависимости целевой переменной от признаков - называется **задача регрессии**, а модель, которую мы разработали - **линейная регрессия**.\n",
    "\n",
    "Сейчас у нас был один признак и одна целевая переменная, поэтому уравнение зависимости имело вид $y=kx+b$. Помните, что $k$ и $b$ - параметры модели? Так вот, коэфициент $k$ называется весом признака $x$, а коэффициент $b$ - константное смещение.\n",
    "\n",
    "Если бы в наших данных был бы ещё один признак, например, количество дней хранения, то наше уравнение имело бы вид: $$y = w_1*x_1+w_2*x_2+w_0$$\n",
    "\n",
    "> Не пугайтесь, просто заменили $k \\rightarrow w_1$, а $b \\rightarrow w_0$, чтобы привести к более общему виду =)\n",
    "\n",
    "Здесь $x_1$ - объем упаковки, $x_2$ - количество дней хранения. Как видите, каждый признак имеет вес, обозначаемый $w_n$. Таким вот нехитрым образом мы может делать модель предсказания, если в наших данных целевая переменная зависит не от одного, а от многих признаков!\n",
    "\n",
    "В общем виде, можно написать уравнение для $n$ признаков:\n",
    "\n",
    "$$y = \\sum_{i=1}^{n} w_i*x_i + w_0$$"
   ]
  },
  {
   "cell_type": "markdown",
   "metadata": {},
   "source": [
    "Так к чему все эти разговоры? Просто, этот маленький факт позволяет заглянуть в функционал фреймворка `sklearn` по [части регрессии](https://scikit-learn.org/stable/supervised_learning.html#supervised-learning) и увидеть, сколько там всего интересного!\n",
    "\n",
    "Начнем мы с построения модели, давайте воспользуемся классом [LinearRegression](https://scikit-learn.org/stable/modules/generated/sklearn.linear_model.LinearRegression.html) для обучения модели:"
   ]
  },
  {
   "cell_type": "code",
   "execution_count": 58,
   "metadata": {
    "_cell_id": "I4nY52jZZQAzx7dF"
   },
   "outputs": [
    {
     "data": {
      "image/png": "[encoded data removed]",
      "text/plain": [
       "<Figure size 1080x720 with 1 Axes>"
      ]
     },
     "metadata": {
      "needs_background": "light"
     },
     "output_type": "display_data"
    }
   ],
   "source": [
    "from sklearn.linear_model import LinearRegression\n",
    "\n",
    "# Создаем объект класса LinearRegression\n",
    "reg_model = LinearRegression()\n",
    "\n",
    "# Применяем .fit() метод с передачей матрицы признаков и вектором разметки (истинных значений)\n",
    "y_true = df_yogurths['price_rub']\n",
    "x = df_yogurths['volume'].values\n",
    "# NOTE - модели обычно используют матрицу признаков, но в нашем случае это всего лишь вектор, поэтому меняем размер\n",
    "x_matrix = x.reshape(-1, 1)\n",
    "reg_model.fit(x_matrix, y_true)\n",
    "\n",
    "# Используем модель для предсказания на известных данных\n",
    "y_pred = reg_model.predict(x_matrix)\n",
    "\n",
    "plt.scatter(x, y_true, marker='x', label='Истинное')\n",
    "plt.scatter(x, y_pred, c='r', marker='o', s=20, label='Предсказанное')\n",
    "plt.xlabel('Объем, мл')\n",
    "plt.ylabel('Цена, руб')\n",
    "plt.legend()\n",
    "plt.grid()"
   ]
  },
  {
   "cell_type": "markdown",
   "metadata": {},
   "source": [
    "Вот таким маленьким кодом мы обучили модель, сделали предсказания на данных и видим, что предсказанные значения близки к истинным! В этом сила фреймворков - они организуют работу и заворачивают в себя код, который выполняет большую и сложную работу.\n",
    "\n",
    "> 🤓 Свойство включать в себя атрибуты (переменные внутри класса), методы (функции класса) для работы с атрибутами называется **инкапсуляция**. Это одно из свойств, на котором строится ООП и которым обладают классы в Python. \n",
    "\n",
    "Так как `LinearRegression` - класс, то он включает в себя атрибуты (увидим позже) и методы (`.fit()`, `.predict()`), которые позволяют удобно выполнять требуемые задачи.\n",
    "\n",
    "По сути, метод `.fit()` организует поиск таких коэффициентов модели линейной регрессии, чтобы минимизировать ошибку.\n",
    "\n",
    "Давайте сравним значения ошибки при ручном поиске и при обучении с помощью класса LinearRegression:"
   ]
  },
  {
   "cell_type": "code",
   "execution_count": 64,
   "metadata": {
    "_cell_id": "l3fUOxMSc4VYNnDW"
   },
   "outputs": [
    {
     "name": "stdout",
     "output_type": "stream",
     "text": [
      "MAE manual vs sklearn: 1.3200000000000003 | 1.3330979909021992\n"
     ]
    }
   ],
   "source": [
    "y_pred_manual = predict_price_linear(x, LINE_K, LINE_B)\n",
    "y_pred_sklearn = y_pred\n",
    "\n",
    "mae_manual = compute_MAE(y_true, y_pred_manual)\n",
    "mae_sklearn = compute_MAE(y_true, y_pred_sklearn)\n",
    "\n",
    "print(f'MAE manual vs sklearn: {mae_manual} | {mae_sklearn}')"
   ]
  },
  {
   "cell_type": "markdown",
   "metadata": {},
   "source": [
    "Как видим, ошибка модели sklearn не сильно отличается от той, что мы получили при настройке руками. А теперь пора взглянуть на коэффициенты, которые получились при настройке через [LinearRegression](https://scikit-learn.org/stable/modules/generated/sklearn.linear_model.LinearRegression.html). Для этого перейдем по ссылке и посмотрим, в каких атрибутах хранятся веса модели. Воспользуемся знаниями из документации для сравнения:"
   ]
  },
  {
   "cell_type": "code",
   "execution_count": 65,
   "metadata": {
    "_cell_id": "IFv0XBwHePiJSxuA"
   },
   "outputs": [
    {
     "name": "stdout",
     "output_type": "stream",
     "text": [
      "Manual setup parameters: 0.02 | 45\n",
      "LinearRegerssion parameters: [0.02005899] | 44.81829274071266\n"
     ]
    }
   ],
   "source": [
    "print(f'Manual setup parameters: {LINE_K} | {LINE_B}')\n",
    "print(f'LinearRegerssion parameters: {reg_model.coef_} | {reg_model.intercept_}')"
   ]
  },
  {
   "cell_type": "markdown",
   "metadata": {},
   "source": [
    "Как видно, коэффициенты тоже сходятся у моделей! Замечательно!\n",
    "\n",
    "Давайте теперь выполним последнюю задачку - сравните работу своей функции `compute_MAE()` и функции фреймворка [mean_absolute_error](https://scikit-learn.org/stable/modules/generated/sklearn.metrics.mean_absolute_error.html)."
   ]
  },
  {
   "cell_type": "code",
   "execution_count": 74,
   "metadata": {
    "_cell_id": "IrXWhJBObhcP7ZYs"
   },
   "outputs": [
    {
     "name": "stdout",
     "output_type": "stream",
     "text": [
      "1.3200000000000003\n"
     ]
    },
    {
     "data": {
      "text/plain": [
       "1.3200000000000003"
      ]
     },
     "execution_count": 74,
     "metadata": {},
     "output_type": "execute_result"
    }
   ],
   "source": [
    "from sklearn.metrics import mean_absolute_error\n",
    "mae_manual = compute_MAE(y_true, y_pred_manual)\n",
    "print(mae_manual)\n",
    "mean_absolute_error(y_true, y_pred_manual)\n",
    "# print(mean_error)\n",
    "# TODO - сравните результаты вычисления с точностью до 6го знака\n",
    "# NOTE - используйте y_true и y_pred"
   ]
  },
  {
   "cell_type": "markdown",
   "metadata": {},
   "source": [
    "Если результаты функций сходятся до 6го знака и более, то все сделано правильно и, как видите, наши вычисления проводятся с точностью до 6го знака, как делается это в признанном фреймворке! Отличный результат!\n",
    "\n",
    "> 🔥 Почему мы сразу не пользовались функцией `mean_absolute_error()`? Использование фреймворков - полезный и продуктивный подход, но слепое использование готового кода может приводить к серьезным ошибкам. Не забывайте разбираться и анализировать, что вы делаете и понимать принципы тех фреймворков, с которыми вы работаете. Эти знания могут вам сильно пригодиться в будущем, чтобы разбираться с новыми фреймворками, так как многие построены по одинаковым или похожим принципам. Также, хорошее понимание принципов тех или иных методов и алгоритмов уменьшает шанс ошибки, так как сразу видно, где что-то идет не так."
   ]
  },
  {
   "cell_type": "markdown",
   "metadata": {},
   "source": [
    "Вот так мы и смогли обучить реальную модель машинного обучения и применить современные инструменты, которыми пользуются разработчики со всего мира, чтобы настроить модель на предсказания цены йогуртов! Какие мы молодцы!\n",
    "В дальнейшем мы ещё много всего узнаем, но уже сейчас мы научились многому новому, что поможет нам в дальнейшем!"
   ]
  },
  {
   "cell_type": "markdown",
   "metadata": {},
   "source": [
    "# Вопросы для закрепления <a name=\"qa\"></a>\n",
    "\n",
    "А теперь пара вопросов, чтобы закрепить материал!\n",
    "\n",
    "1. Почему регрессия \"линейная\"? \n",
    "2. Есть ли смысл предсказывать данные, на которых обучалась модель? \n",
    "3. Зачем изменять размер вектора фичей (в случае, когда только 1 признак) для обучения модели? \n",
    "4. Зачем нужна метрика MAE? \n",
    "5. Нужно ли заново переучивать модель при появлении новых данных? "
   ]
  },
  {
   "cell_type": "markdown",
   "metadata": {},
   "source": [
    "# Полезные ссылки <a name='links'></a>\n",
    "* [Linear Regression от StatQuest](https://www.youtube.com/watch?v=nk2CQITm_eo)\n"
   ]
  }
 ],
 "metadata": {
  "interpreter": {
   "hash": "de2f9191189b79ee53937fe96f727bf1ec3a66c60c9dcc7a97f86cfb4f0b945c"
  },
  "kernelspec": {
   "display_name": "Python 3",
   "language": "python",
   "name": "python3"
  },
  "language_info": {
   "codemirror_mode": {
    "name": "ipython",
    "version": 3
   },
   "file_extension": ".py",
   "mimetype": "text/x-python",
   "name": "python",
   "nbconvert_exporter": "python",
   "pygments_lexer": "ipython3",
   "version": "3.8.8"
  }
 },
 "nbformat": 4,
 "nbformat_minor": 2
}
